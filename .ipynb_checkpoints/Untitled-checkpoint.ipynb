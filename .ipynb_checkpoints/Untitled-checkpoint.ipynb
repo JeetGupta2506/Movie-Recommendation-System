{
 "cells": [
  {
   "cell_type": "code",
   "execution_count": 62,
   "id": "b615b7ed-92f4-4411-a028-8b2a2d17bd08",
   "metadata": {},
   "outputs": [],
   "source": [
    "import pandas as pd\n",
    "import numpy as np\n",
    "import matplotlib.pyplot as py\n",
    "%matplotlib inline"
   ]
  },
  {
   "cell_type": "code",
   "execution_count": 63,
   "id": "41ae2919-9c0e-4f28-9926-ed4818bde701",
   "metadata": {},
   "outputs": [],
   "source": [
    "df=pd.read_csv(\"Updated_Movie_Dataset.csv\")\n",
    "df = df.rename(columns={df.columns[0]: \"index_movie\"})\n"
   ]
  },
  {
   "cell_type": "code",
   "execution_count": 64,
   "id": "1dd213ea-b27c-4fd6-8752-e791d385f39e",
   "metadata": {},
   "outputs": [
    {
     "data": {
      "text/plain": [
       "Index(['index_movie', 'movie_id', 'movie_name', 'year', 'genre', 'overview',\n",
       "       'director', 'cast', 'Poster_URL'],\n",
       "      dtype='object')"
      ]
     },
     "execution_count": 64,
     "metadata": {},
     "output_type": "execute_result"
    }
   ],
   "source": [
    "df.columns"
   ]
  },
  {
   "cell_type": "code",
   "execution_count": 65,
   "id": "d1730c1b-d86d-4bb5-b8c1-2879ca557685",
   "metadata": {},
   "outputs": [
    {
     "data": {
      "text/plain": [
       "index_movie      0\n",
       "movie_id         0\n",
       "movie_name       0\n",
       "year            65\n",
       "genre            0\n",
       "overview         0\n",
       "director         0\n",
       "cast             0\n",
       "Poster_URL     884\n",
       "dtype: int64"
      ]
     },
     "execution_count": 65,
     "metadata": {},
     "output_type": "execute_result"
    }
   ],
   "source": [
    "df.isna().sum()"
   ]
  },
  {
   "cell_type": "code",
   "execution_count": 66,
   "id": "40109ce1-da8e-4b09-b11a-05cfa29c02c2",
   "metadata": {},
   "outputs": [],
   "source": [
    "df=df[[\"index_movie\",\"movie_name\",\"genre\",\"overview\",\"Poster_URL\"]]\n"
   ]
  },
  {
   "cell_type": "code",
   "execution_count": 67,
   "id": "8d293875-33e4-44cf-a8cc-305fc3e3d443",
   "metadata": {},
   "outputs": [
    {
     "data": {
      "text/html": [
       "<div>\n",
       "<style scoped>\n",
       "    .dataframe tbody tr th:only-of-type {\n",
       "        vertical-align: middle;\n",
       "    }\n",
       "\n",
       "    .dataframe tbody tr th {\n",
       "        vertical-align: top;\n",
       "    }\n",
       "\n",
       "    .dataframe thead th {\n",
       "        text-align: right;\n",
       "    }\n",
       "</style>\n",
       "<table border=\"1\" class=\"dataframe\">\n",
       "  <thead>\n",
       "    <tr style=\"text-align: right;\">\n",
       "      <th></th>\n",
       "      <th>index_movie</th>\n",
       "      <th>movie_name</th>\n",
       "      <th>genre</th>\n",
       "      <th>overview</th>\n",
       "      <th>Poster_URL</th>\n",
       "    </tr>\n",
       "  </thead>\n",
       "  <tbody>\n",
       "    <tr>\n",
       "      <th>0</th>\n",
       "      <td>0</td>\n",
       "      <td>Jawan</td>\n",
       "      <td>Action, Thriller</td>\n",
       "      <td>A high-octane action thriller which outlines t...</td>\n",
       "      <td>https://m.media-amazon.com/images/M/MV5BMGExNG...</td>\n",
       "    </tr>\n",
       "    <tr>\n",
       "      <th>1</th>\n",
       "      <td>1</td>\n",
       "      <td>Jaane Jaan</td>\n",
       "      <td>Crime, Drama, Mystery</td>\n",
       "      <td>A single mother and her daughter who commit a ...</td>\n",
       "      <td>https://m.media-amazon.com/images/M/MV5BMGIzNT...</td>\n",
       "    </tr>\n",
       "    <tr>\n",
       "      <th>2</th>\n",
       "      <td>2</td>\n",
       "      <td>Jailer</td>\n",
       "      <td>Action, Comedy, Crime</td>\n",
       "      <td>A retired jailer goes on a manhunt to find his...</td>\n",
       "      <td>https://m.media-amazon.com/images/M/MV5BMmM3YT...</td>\n",
       "    </tr>\n",
       "    <tr>\n",
       "      <th>3</th>\n",
       "      <td>3</td>\n",
       "      <td>Rocky Aur Rani Kii Prem Kahaani</td>\n",
       "      <td>Comedy, Drama, Family</td>\n",
       "      <td>Flamboyant Punjabi Rocky and intellectual Beng...</td>\n",
       "      <td>https://m.media-amazon.com/images/M/MV5BNjViNW...</td>\n",
       "    </tr>\n",
       "    <tr>\n",
       "      <th>4</th>\n",
       "      <td>4</td>\n",
       "      <td>OMG 2</td>\n",
       "      <td>Comedy, Drama</td>\n",
       "      <td>An unhappy civilian asks the court to mandate ...</td>\n",
       "      <td>https://m.media-amazon.com/images/M/MV5BYzRmMD...</td>\n",
       "    </tr>\n",
       "  </tbody>\n",
       "</table>\n",
       "</div>"
      ],
      "text/plain": [
       "   index_movie                       movie_name                  genre  \\\n",
       "0            0                            Jawan       Action, Thriller   \n",
       "1            1                       Jaane Jaan  Crime, Drama, Mystery   \n",
       "2            2                           Jailer  Action, Comedy, Crime   \n",
       "3            3  Rocky Aur Rani Kii Prem Kahaani  Comedy, Drama, Family   \n",
       "4            4                            OMG 2          Comedy, Drama   \n",
       "\n",
       "                                            overview  \\\n",
       "0  A high-octane action thriller which outlines t...   \n",
       "1  A single mother and her daughter who commit a ...   \n",
       "2  A retired jailer goes on a manhunt to find his...   \n",
       "3  Flamboyant Punjabi Rocky and intellectual Beng...   \n",
       "4  An unhappy civilian asks the court to mandate ...   \n",
       "\n",
       "                                          Poster_URL  \n",
       "0  https://m.media-amazon.com/images/M/MV5BMGExNG...  \n",
       "1  https://m.media-amazon.com/images/M/MV5BMGIzNT...  \n",
       "2  https://m.media-amazon.com/images/M/MV5BMmM3YT...  \n",
       "3  https://m.media-amazon.com/images/M/MV5BNjViNW...  \n",
       "4  https://m.media-amazon.com/images/M/MV5BYzRmMD...  "
      ]
     },
     "execution_count": 67,
     "metadata": {},
     "output_type": "execute_result"
    }
   ],
   "source": [
    "df.head()"
   ]
  },
  {
   "cell_type": "code",
   "execution_count": 68,
   "id": "ba332291-a89d-41a6-bcbf-d927830bae74",
   "metadata": {},
   "outputs": [],
   "source": [
    "df['tag']=df['overview']+df['genre']\n",
    "df.drop(columns=[\"overview\",\"genre\"],inplace=True)"
   ]
  },
  {
   "cell_type": "code",
   "execution_count": 69,
   "id": "f5723069-2a4f-45d2-b939-f11318754c0b",
   "metadata": {},
   "outputs": [],
   "source": [
    "df['tag']=df['tag'].apply(lambda x:x.lower())"
   ]
  },
  {
   "cell_type": "code",
   "execution_count": 70,
   "id": "829c0da3-3940-4923-8140-f0084e12da7a",
   "metadata": {},
   "outputs": [
    {
     "data": {
      "text/html": [
       "<div>\n",
       "<style scoped>\n",
       "    .dataframe tbody tr th:only-of-type {\n",
       "        vertical-align: middle;\n",
       "    }\n",
       "\n",
       "    .dataframe tbody tr th {\n",
       "        vertical-align: top;\n",
       "    }\n",
       "\n",
       "    .dataframe thead th {\n",
       "        text-align: right;\n",
       "    }\n",
       "</style>\n",
       "<table border=\"1\" class=\"dataframe\">\n",
       "  <thead>\n",
       "    <tr style=\"text-align: right;\">\n",
       "      <th></th>\n",
       "      <th>index_movie</th>\n",
       "      <th>movie_name</th>\n",
       "      <th>Poster_URL</th>\n",
       "      <th>tag</th>\n",
       "    </tr>\n",
       "  </thead>\n",
       "  <tbody>\n",
       "    <tr>\n",
       "      <th>0</th>\n",
       "      <td>0</td>\n",
       "      <td>Jawan</td>\n",
       "      <td>https://m.media-amazon.com/images/M/MV5BMGExNG...</td>\n",
       "      <td>a high-octane action thriller which outlines t...</td>\n",
       "    </tr>\n",
       "    <tr>\n",
       "      <th>1</th>\n",
       "      <td>1</td>\n",
       "      <td>Jaane Jaan</td>\n",
       "      <td>https://m.media-amazon.com/images/M/MV5BMGIzNT...</td>\n",
       "      <td>a single mother and her daughter who commit a ...</td>\n",
       "    </tr>\n",
       "    <tr>\n",
       "      <th>2</th>\n",
       "      <td>2</td>\n",
       "      <td>Jailer</td>\n",
       "      <td>https://m.media-amazon.com/images/M/MV5BMmM3YT...</td>\n",
       "      <td>a retired jailer goes on a manhunt to find his...</td>\n",
       "    </tr>\n",
       "    <tr>\n",
       "      <th>3</th>\n",
       "      <td>3</td>\n",
       "      <td>Rocky Aur Rani Kii Prem Kahaani</td>\n",
       "      <td>https://m.media-amazon.com/images/M/MV5BNjViNW...</td>\n",
       "      <td>flamboyant punjabi rocky and intellectual beng...</td>\n",
       "    </tr>\n",
       "    <tr>\n",
       "      <th>4</th>\n",
       "      <td>4</td>\n",
       "      <td>OMG 2</td>\n",
       "      <td>https://m.media-amazon.com/images/M/MV5BYzRmMD...</td>\n",
       "      <td>an unhappy civilian asks the court to mandate ...</td>\n",
       "    </tr>\n",
       "  </tbody>\n",
       "</table>\n",
       "</div>"
      ],
      "text/plain": [
       "   index_movie                       movie_name  \\\n",
       "0            0                            Jawan   \n",
       "1            1                       Jaane Jaan   \n",
       "2            2                           Jailer   \n",
       "3            3  Rocky Aur Rani Kii Prem Kahaani   \n",
       "4            4                            OMG 2   \n",
       "\n",
       "                                          Poster_URL  \\\n",
       "0  https://m.media-amazon.com/images/M/MV5BMGExNG...   \n",
       "1  https://m.media-amazon.com/images/M/MV5BMGIzNT...   \n",
       "2  https://m.media-amazon.com/images/M/MV5BMmM3YT...   \n",
       "3  https://m.media-amazon.com/images/M/MV5BNjViNW...   \n",
       "4  https://m.media-amazon.com/images/M/MV5BYzRmMD...   \n",
       "\n",
       "                                                 tag  \n",
       "0  a high-octane action thriller which outlines t...  \n",
       "1  a single mother and her daughter who commit a ...  \n",
       "2  a retired jailer goes on a manhunt to find his...  \n",
       "3  flamboyant punjabi rocky and intellectual beng...  \n",
       "4  an unhappy civilian asks the court to mandate ...  "
      ]
     },
     "execution_count": 70,
     "metadata": {},
     "output_type": "execute_result"
    }
   ],
   "source": [
    "df.head()"
   ]
  },
  {
   "cell_type": "code",
   "execution_count": 71,
   "id": "945f5979-2a89-458b-8e25-9a939856ca7b",
   "metadata": {},
   "outputs": [],
   "source": [
    "import nltk\n",
    "\n",
    "from nltk.stem.porter import PorterStemmer\n",
    "\n",
    "ps=PorterStemmer()"
   ]
  },
  {
   "cell_type": "code",
   "execution_count": 72,
   "id": "ead15d23-79b3-4966-9205-17c7ca9a2823",
   "metadata": {},
   "outputs": [],
   "source": [
    "   def stemming(text):\n",
    "       y=[]\n",
    "       for i in text.split():           \n",
    "           y.append(ps.stem(i))\n",
    "\n",
    "       return \" \".join(y)\n",
    "       "
   ]
  },
  {
   "cell_type": "code",
   "execution_count": 73,
   "id": "38778641-cf9c-4dae-809c-f3bae5471656",
   "metadata": {},
   "outputs": [
    {
     "data": {
      "text/plain": [
       "'a high-octan action thriller which outlin the emot journey of a man who is set to rectifi the wrong in the society.action, thriller'"
      ]
     },
     "execution_count": 73,
     "metadata": {},
     "output_type": "execute_result"
    }
   ],
   "source": [
    "stemming(df['tag'][0])"
   ]
  },
  {
   "cell_type": "code",
   "execution_count": 74,
   "id": "509eb7e3-75b7-4330-b12f-7cd0f1dada37",
   "metadata": {},
   "outputs": [
    {
     "data": {
      "text/plain": [
       "\"a modern adapt of the indian epic ramayana which follow the exil princ raghav' journey to rescu hi wife janaki from the raakshash king lankesh.action, adventure, drama\""
      ]
     },
     "execution_count": 74,
     "metadata": {},
     "output_type": "execute_result"
    }
   ],
   "source": [
    "stemming(df['tag'][64])"
   ]
  },
  {
   "cell_type": "code",
   "execution_count": 75,
   "id": "391d1710-0d47-41a2-be59-085cb03766e3",
   "metadata": {},
   "outputs": [
    {
     "data": {
      "text/html": [
       "<div>\n",
       "<style scoped>\n",
       "    .dataframe tbody tr th:only-of-type {\n",
       "        vertical-align: middle;\n",
       "    }\n",
       "\n",
       "    .dataframe tbody tr th {\n",
       "        vertical-align: top;\n",
       "    }\n",
       "\n",
       "    .dataframe thead th {\n",
       "        text-align: right;\n",
       "    }\n",
       "</style>\n",
       "<table border=\"1\" class=\"dataframe\">\n",
       "  <thead>\n",
       "    <tr style=\"text-align: right;\">\n",
       "      <th></th>\n",
       "      <th>index_movie</th>\n",
       "      <th>movie_name</th>\n",
       "      <th>Poster_URL</th>\n",
       "      <th>tag</th>\n",
       "    </tr>\n",
       "  </thead>\n",
       "  <tbody>\n",
       "    <tr>\n",
       "      <th>0</th>\n",
       "      <td>0</td>\n",
       "      <td>Jawan</td>\n",
       "      <td>https://m.media-amazon.com/images/M/MV5BMGExNG...</td>\n",
       "      <td>a high-octane action thriller which outlines t...</td>\n",
       "    </tr>\n",
       "    <tr>\n",
       "      <th>1</th>\n",
       "      <td>1</td>\n",
       "      <td>Jaane Jaan</td>\n",
       "      <td>https://m.media-amazon.com/images/M/MV5BMGIzNT...</td>\n",
       "      <td>a single mother and her daughter who commit a ...</td>\n",
       "    </tr>\n",
       "    <tr>\n",
       "      <th>2</th>\n",
       "      <td>2</td>\n",
       "      <td>Jailer</td>\n",
       "      <td>https://m.media-amazon.com/images/M/MV5BMmM3YT...</td>\n",
       "      <td>a retired jailer goes on a manhunt to find his...</td>\n",
       "    </tr>\n",
       "    <tr>\n",
       "      <th>3</th>\n",
       "      <td>3</td>\n",
       "      <td>Rocky Aur Rani Kii Prem Kahaani</td>\n",
       "      <td>https://m.media-amazon.com/images/M/MV5BNjViNW...</td>\n",
       "      <td>flamboyant punjabi rocky and intellectual beng...</td>\n",
       "    </tr>\n",
       "    <tr>\n",
       "      <th>4</th>\n",
       "      <td>4</td>\n",
       "      <td>OMG 2</td>\n",
       "      <td>https://m.media-amazon.com/images/M/MV5BYzRmMD...</td>\n",
       "      <td>an unhappy civilian asks the court to mandate ...</td>\n",
       "    </tr>\n",
       "  </tbody>\n",
       "</table>\n",
       "</div>"
      ],
      "text/plain": [
       "   index_movie                       movie_name  \\\n",
       "0            0                            Jawan   \n",
       "1            1                       Jaane Jaan   \n",
       "2            2                           Jailer   \n",
       "3            3  Rocky Aur Rani Kii Prem Kahaani   \n",
       "4            4                            OMG 2   \n",
       "\n",
       "                                          Poster_URL  \\\n",
       "0  https://m.media-amazon.com/images/M/MV5BMGExNG...   \n",
       "1  https://m.media-amazon.com/images/M/MV5BMGIzNT...   \n",
       "2  https://m.media-amazon.com/images/M/MV5BMmM3YT...   \n",
       "3  https://m.media-amazon.com/images/M/MV5BNjViNW...   \n",
       "4  https://m.media-amazon.com/images/M/MV5BYzRmMD...   \n",
       "\n",
       "                                                 tag  \n",
       "0  a high-octane action thriller which outlines t...  \n",
       "1  a single mother and her daughter who commit a ...  \n",
       "2  a retired jailer goes on a manhunt to find his...  \n",
       "3  flamboyant punjabi rocky and intellectual beng...  \n",
       "4  an unhappy civilian asks the court to mandate ...  "
      ]
     },
     "execution_count": 75,
     "metadata": {},
     "output_type": "execute_result"
    }
   ],
   "source": [
    "df.head()"
   ]
  },
  {
   "cell_type": "code",
   "execution_count": 76,
   "id": "4437d0bd-0a90-4b9a-b347-2dbbe47bfc1f",
   "metadata": {},
   "outputs": [
    {
     "data": {
      "text/plain": [
       "'an eight-year-old boy is thought to be a lazy trouble-maker, until the new art teacher has the patience and compassion to discover the real problem behind his struggles in school.drama, family'"
      ]
     },
     "execution_count": 76,
     "metadata": {},
     "output_type": "execute_result"
    }
   ],
   "source": [
    "df['tag'][45]"
   ]
  },
  {
   "cell_type": "code",
   "execution_count": 77,
   "id": "0ca47338-3a16-477a-89c4-dfad63cd8277",
   "metadata": {},
   "outputs": [],
   "source": [
    "import string\n",
    "\n",
    "df['tag'] = df['tag'].str.replace(f\"[{string.punctuation}]\", \"\", regex=True)\n",
    "\n"
   ]
  },
  {
   "cell_type": "code",
   "execution_count": 78,
   "id": "19e845de-cebc-4d37-a1a7-94465bfa8129",
   "metadata": {},
   "outputs": [
    {
     "data": {
      "text/plain": [
       "'a tough police officer sets out to track down and kill an equally tough gangsteraction crime drama'"
      ]
     },
     "execution_count": 78,
     "metadata": {},
     "output_type": "execute_result"
    }
   ],
   "source": [
    "df['tag'][56]"
   ]
  },
  {
   "cell_type": "code",
   "execution_count": 79,
   "id": "b9f3512b-5d38-4a9a-9d0c-acec0db6f4c1",
   "metadata": {},
   "outputs": [],
   "source": [
    "from sklearn.feature_extraction.text import CountVectorizer\n",
    "cv=CountVectorizer(max_features=5000,stop_words='english')"
   ]
  },
  {
   "cell_type": "code",
   "execution_count": 80,
   "id": "50f90b15-706d-4d13-b897-9d8127183caa",
   "metadata": {},
   "outputs": [],
   "source": [
    "vectors=cv.fit_transform(df['tag']).toarray()"
   ]
  },
  {
   "cell_type": "code",
   "execution_count": 81,
   "id": "b5989bd3-d876-4947-ad57-1da104d9b2f6",
   "metadata": {},
   "outputs": [
    {
     "data": {
      "text/plain": [
       "array(['10', '100', '10000', ..., 'zee5', 'zone', 'zoya'],\n",
       "      shape=(5000,), dtype=object)"
      ]
     },
     "execution_count": 81,
     "metadata": {},
     "output_type": "execute_result"
    }
   ],
   "source": [
    "cv.get_feature_names_out()"
   ]
  },
  {
   "cell_type": "code",
   "execution_count": 82,
   "id": "6d1663d3-2580-4507-b97a-f07c7b986e36",
   "metadata": {},
   "outputs": [],
   "source": [
    "from sklearn.metrics.pairwise import cosine_similarity\n",
    "\n",
    "similarity=cosine_similarity(vectors)\n"
   ]
  },
  {
   "cell_type": "code",
   "execution_count": 83,
   "id": "20918ceb-478a-4273-92e8-845828cc8ea9",
   "metadata": {},
   "outputs": [],
   "source": [
    "def recommend(movie):\n",
    "    index = df[df['movie_name'] == movie].index[0]\n",
    "\n",
    "    distances = sorted(list(enumerate(similarity[index])),reverse=True,key = lambda x: x[1])\n",
    "    for i in distances[1:6]:\n",
    "        print(df.iloc[i[0]].movie_name)\n",
    "\n",
    "    "
   ]
  },
  {
   "cell_type": "code",
   "execution_count": 84,
   "id": "3866122b-d403-4b79-8f45-d3c9bf12b587",
   "metadata": {},
   "outputs": [
    {
     "name": "stdout",
     "output_type": "stream",
     "text": [
      "Bhuddah Hoga Tera Baap\n",
      "Dishoom\n",
      "Radhe\n",
      "De Dana Dan\n",
      "Khosla Ka Ghosla!\n"
     ]
    }
   ],
   "source": [
    "recommend(\"Jailer\")"
   ]
  },
  {
   "cell_type": "code",
   "execution_count": 85,
   "id": "acb4ea61-b82a-4faa-916c-8fc8f39fe71d",
   "metadata": {},
   "outputs": [
    {
     "name": "stdout",
     "output_type": "stream",
     "text": [
      "Auzaar\n",
      "Fukrey\n",
      "Chhichhore\n",
      "Haasil\n",
      "Ta Ra Rum Pum\n"
     ]
    }
   ],
   "source": [
    "recommend(\"3 Idiots\")"
   ]
  },
  {
   "cell_type": "code",
   "execution_count": 86,
   "id": "123a6143-da55-4ef9-9104-c507e1ef0b7a",
   "metadata": {},
   "outputs": [],
   "source": [
    "import pickle"
   ]
  },
  {
   "cell_type": "code",
   "execution_count": 87,
   "id": "122fe9fb-fab1-42b6-bafc-5c113fec5a7e",
   "metadata": {},
   "outputs": [],
   "source": [
    "pickle.dump(df, open(\"movies.pkl\", \"wb\"))\n",
    "pickle.dump(similarity, open(\"similarity.pkl\", \"wb\"))"
   ]
  }
 ],
 "metadata": {
  "kernelspec": {
   "display_name": "Python 3 (ipykernel)",
   "language": "python",
   "name": "python3"
  },
  "language_info": {
   "codemirror_mode": {
    "name": "ipython",
    "version": 3
   },
   "file_extension": ".py",
   "mimetype": "text/x-python",
   "name": "python",
   "nbconvert_exporter": "python",
   "pygments_lexer": "ipython3",
   "version": "3.12.8"
  }
 },
 "nbformat": 4,
 "nbformat_minor": 5
}
